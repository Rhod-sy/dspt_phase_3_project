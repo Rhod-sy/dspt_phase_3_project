{
 "cells": [
  {
   "cell_type": "markdown",
   "id": "ed84f049",
   "metadata": {},
   "source": [
    "PERSON_ID\t\n",
    "* A unique identifier for each person record. IDs starting with P indicate passengers. IDs starting with O indicate a person who was not a passenger in the vehicle (e.g., driver, pedestrian, cyclist, etc.).\n",
    "* PERSON_TYPE\t:Type of roadway user involved in crash\n",
    "* CRASH_RECORD_ID\t: This number can be used to link to the same crash in the Vehicles and People datasets. This number also serves as a unique ID in this dataset.\n",
    "* CRASH_DATE\t-Date and time of crash as entered by the reporting officer\n",
    "* CITY\t-City of residence of person involved in crash\n",
    "* STATE\t-State of residence of person involved in crash\n",
    "* SEX\t-Gender of person involved in crash, as determined by reporting officer\n",
    "* AGE\t-Age of person involved in crash\n",
    "* DRIVERS_LICENSE_STATE\t-State issuing driver's license of person involved in crash\n",
    "* DRIVERS_LICENSE_CLASS\t-Class of driver's license of person involved in crash\n",
    "* SAFETY_EQUIPMENT\t-Safety equipment used by vehicle occupant in crash, if any\n",
    "* AIRBAG_DEPLOYED\tWhether vehicle occupant airbag deployed as result of crash\n",
    "* EJECTION\tWhether vehicle occupant was ejected or extricated from the vehicle as a result of crash\n",
    "* INJURY_CLASSIFICATION\tSeverity of injury person sustained in the crash\n",
    "* DRIVER_ACTION\tDriver action that contributed to the crash, as determined by reporting officer\n",
    "* DRIVER_VISION\tWhat, if any, objects obscured the driver’s vision at time of crash\n",
    "* PHYSICAL_CONDITION\tDriver’s apparent physical condition at time of crash, as observed by the reporting officer\n",
    "* POSTED_SPEED_LIMIT\tPosted speed limit, as determined by reporting officer\n",
    "* TRAFFIC_CONTROL_DEVICE\tTraffic control device present at crash location, as determined by reporting officer\n",
    "* DEVICE_CONDITION\tCondition of traffic control device, as determined by reporting officer\n",
    "* WEATHER_CONDITION\tWeather condition at time of crash, as determined by reporting officer\n",
    "* LIGHTING_CONDITION\tLight condition at time of crash, as determined by reporting officer\n",
    "* ROAD_DEFECT\tRoad defects, as determined by reporting officer\n",
    "* CRASH_TYPE\tA general severity classification for the crash. Can be either Injury and/or Tow Due to Crash or No Injury / Drive Away\n",
    "\n",
    "* DAMAGE\tA field observation of estimated damage.\n",
    "* PRIM_CONTRIBUTORY_CAUSE\tThe factor which was most significant in causing the crash, as determined by officer judgment\n",
    "* SEC_CONTRIBUTORY_CAUSE\tThe factor which was second most significant in causing the crash, as determined by officer judgment\n",
    "* STREET_NAME\tStreet address name of crash location, as determined by reporting officer\n",
    "* NUM_UNITS\tNumber of units involved in the crash. A unit can be a motor vehicle, a pedestrian, a bicyclist, or another non-passenger roadway user. Each unit represents a mode of traffic with an independent trajectory.\n",
    "* MOST_SEVERE_INJURY\tMost severe injury sustained by any person involved in the crash\n",
    "* INJURIES_TOTAL\tTotal persons sustaining fatal, incapacitating, non-incapacitating, and possible injuries as determined by the reporting officer\n",
    "* CRASH_HOUR\tThe hour of the day component of CRASH_DATE.\n",
    "* CRASH_DAY_OF_WEEK\tThe day of the week component of CRASH_DATE. Sunday=1\n",
    "* CRASH_MONTH\tThe month component of CRASH_DATE.\n",
    "* LOCATION\tThe crash location, as determined by reporting officer, as derived from the reported address of crash, in a column type that allows for mapping and other geographic analysis in the data portal software\n",
    "* UNIT_NO\tA unique ID for each unit within a specific crash report.\n",
    "* UNIT_TYPE\t\n",
    "The type of unit\n",
    "VEHICLE_ID\n",
    "\n",
    "MAKE\t\n",
    "The make (brand) of the vehicle, if relevant\n",
    "MODEL\t\n",
    "The model of the vehicle, if relevant\n",
    "VEHICLE_YEAR\t\n",
    "The model year of the vehicle, if relevant\n",
    "VEHICLE_DEFECT\t\n",
    "\n",
    "VEHICLE_TYPE\t\n",
    "The type of vehicle, if relevant\n",
    "VEHICLE_USE\t\n",
    "The normal use of the vehicle, if relevant\n",
    "MANEUVER\t\n",
    "The action the unit was taking prior to the crash, as determined by the reporting officer\n",
    "OCCUPANT_CNT\t\n",
    "The number of people in the unit, as determined by the reporting officer\n",
    "\n"
   ]
  },
  {
   "cell_type": "code",
   "execution_count": null,
   "id": "81c43793",
   "metadata": {},
   "outputs": [],
   "source": []
  }
 ],
 "metadata": {
  "kernelspec": {
   "display_name": "Python (learn-env)",
   "language": "python",
   "name": "learn-env"
  },
  "language_info": {
   "codemirror_mode": {
    "name": "ipython",
    "version": 3
   },
   "file_extension": ".py",
   "mimetype": "text/x-python",
   "name": "python",
   "nbconvert_exporter": "python",
   "pygments_lexer": "ipython3",
   "version": "3.11.5"
  }
 },
 "nbformat": 4,
 "nbformat_minor": 5
}
